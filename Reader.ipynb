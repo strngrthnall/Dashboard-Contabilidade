{
 "cells": [
  {
   "cell_type": "code",
   "execution_count": 4,
   "metadata": {},
   "outputs": [
    {
     "ename": "ModuleNotFoundError",
     "evalue": "No module named 'CommonImports'",
     "output_type": "error",
     "traceback": [
      "\u001b[1;31m---------------------------------------------------------------------------\u001b[0m",
      "\u001b[1;31mModuleNotFoundError\u001b[0m                       Traceback (most recent call last)",
      "Cell \u001b[1;32mIn[4], line 1\u001b[0m\n\u001b[1;32m----> 1\u001b[0m \u001b[38;5;28;01mfrom\u001b[39;00m \u001b[38;5;21;01mCommonImports\u001b[39;00m \u001b[38;5;28;01mimport\u001b[39;00m \u001b[38;5;241m*\u001b[39m\n",
      "\u001b[1;31mModuleNotFoundError\u001b[0m: No module named 'CommonImports'"
     ]
    }
   ],
   "source": [
    "from CommonImports import *"
   ]
  },
  {
   "cell_type": "code",
   "execution_count": 40,
   "metadata": {},
   "outputs": [],
   "source": [
    "class CreditCard:\n",
    "  def __init__(self, lastDigits:int, bank:str, limit:float, closingDay:int, dueDay:int):\n",
    "    self.lastDigits = lastDigits\n",
    "    self.bank = bank\n",
    "    self.limit = limit\n",
    "    self.closingDay = closingDay\n",
    "    self.dueDay = dueDay\n",
    "    \n",
    "  @classmethod\n",
    "  def createCreditCard(cls, lastDigits:int, bank:str, limit:float, closingDay:int, dueDay:int):\n",
    "    return cls(lastDigits, bank, limit, dueDay, closingDay)\n",
    "\n",
    "  def toDict(self) -> Dict[str, Any]:\n",
    "    return{\n",
    "      'lastDigits': self.lastDigits,\n",
    "      'bank': self.bank,\n",
    "      'limit': self.limit,\n",
    "      'closingDay': self.closingDay,\n",
    "      'dueDay': self.dueDay\n",
    "    }\n",
    "    \n",
    "  @classmethod\n",
    "  def fromDict(cls, data: Dict[str, Any]) -> 'CreditCard':\n",
    "    \n",
    "    return cls(data['last_digits'], data['bank'], data['limit'], data['closing_day'], data['due_day'])\n"
   ]
  },
  {
   "cell_type": "code",
   "execution_count": 43,
   "metadata": {},
   "outputs": [],
   "source": [
    "class Charges:\n",
    "  def __init__(self, date: str, description: str, value: float, currency: str, card: 'CreditCard'):\n",
    "    self.date = dt.strptime(date, \"%d-%m-%Y\")\n",
    "    self.description = description\n",
    "    self.value = value\n",
    "    self.currency = currency\n",
    "    self.card: CreditCard = card\n",
    "    \n",
    "  @classmethod\n",
    "  def createCharge(cls, date: str, description: str, value: float, currency: str, card: 'CreditCard'):\n",
    "    return cls(date, description, value, currency, card)\n",
    "  \n",
    "  def toDict(self) -> Dict[str, Any]:\n",
    "    return {\n",
    "      'date': self.date.strftime(\"%d-%m-%y\"),\n",
    "      'description': self.description,\n",
    "      'value': self.value,\n",
    "      'currency': self.currency,\n",
    "      'card': self.card.toDict()\n",
    "    }\n",
    "    \n",
    "  @classmethod\n",
    "  def fromDict(cls, data: Dict[str, Any]) -> 'Charges':\n",
    "    cardData = data['card']\n",
    "    card = CreditCard.fromDict(cardData)\n",
    "    return cls(\n",
    "      data['data'],\n",
    "      data['description'],\n",
    "      data['value'],\n",
    "      data['currency'],\n",
    "      card\n",
    "    )\n",
    "  \n",
    "  def toJson(self) -> str:\n",
    "    return json.dumps(self.toDict(), indent=2)\n",
    "  \n",
    "  @classmethod\n",
    "  def fromJson(cls, jsonData: str) -> 'Charges':\n",
    "    data = json.loads(jsonData)\n",
    "    return cls.fromDict(data)"
   ]
  },
  {
   "cell_type": "code",
   "execution_count": 44,
   "metadata": {},
   "outputs": [],
   "source": [
    "santanderFree = CreditCard.createCreditCard(\n",
    "  lastDigits = 9685, \n",
    "  bank = \"Santander\", \n",
    "  limit = 1040.00, \n",
    "  closingDay=19, \n",
    "  dueDay=25\n",
    ")"
   ]
  },
  {
   "cell_type": "code",
   "execution_count": 45,
   "metadata": {},
   "outputs": [],
   "source": [
    "firstCharge = Charges.createCharge(\n",
    "  \"13-12-2024\",\n",
    "  \"Pagamento De Fatura\",\n",
    "  -430.61,\n",
    "  \"BRL\",\n",
    "  santanderFree\n",
    ")"
   ]
  },
  {
   "cell_type": "code",
   "execution_count": 46,
   "metadata": {},
   "outputs": [
    {
     "name": "stdout",
     "output_type": "stream",
     "text": [
      "{'lastDigits': 9685, 'bank': 'Santander', 'limit': 1040.0, 'closingDay': 25, 'dueDay': 19}\n"
     ]
    }
   ],
   "source": [
    "print(santanderFree.toDict())"
   ]
  },
  {
   "cell_type": "code",
   "execution_count": 47,
   "metadata": {},
   "outputs": [
    {
     "name": "stdout",
     "output_type": "stream",
     "text": [
      "{\n",
      "  \"date\": \"13-12-24\",\n",
      "  \"description\": \"Pagamento De Fatura\",\n",
      "  \"value\": -430.61,\n",
      "  \"currency\": \"BRL\",\n",
      "  \"card\": {\n",
      "    \"lastDigits\": 9685,\n",
      "    \"bank\": \"Santander\",\n",
      "    \"limit\": 1040.0,\n",
      "    \"closingDay\": 25,\n",
      "    \"dueDay\": 19\n",
      "  }\n",
      "}\n"
     ]
    }
   ],
   "source": [
    "print(firstCharge.toJson())"
   ]
  }
 ],
 "metadata": {
  "kernelspec": {
   "display_name": "Python 3",
   "language": "python",
   "name": "python3"
  },
  "language_info": {
   "codemirror_mode": {
    "name": "ipython",
    "version": 3
   },
   "file_extension": ".py",
   "mimetype": "text/x-python",
   "name": "python",
   "nbconvert_exporter": "python",
   "pygments_lexer": "ipython3",
   "version": "3.11.5"
  }
 },
 "nbformat": 4,
 "nbformat_minor": 2
}
