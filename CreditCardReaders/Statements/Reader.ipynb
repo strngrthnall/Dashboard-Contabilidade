{
 "cells": [
  {
   "cell_type": "code",
   "execution_count": 13,
   "metadata": {},
   "outputs": [],
   "source": [
    "from Config.CommonImports import *\n",
    "from CreditCard import CreditCard\n",
    "from Charges import Charges"
   ]
  },
  {
   "cell_type": "code",
   "execution_count": 14,
   "metadata": {},
   "outputs": [],
   "source": [
    "santanderFree = CreditCard.createCreditCard(\n",
    "  lastDigits = 9685, \n",
    "  bank = \"Santander\", \n",
    "  limit = 1040.00, \n",
    "  closingDay=19, \n",
    "  dueDay=25\n",
    ")"
   ]
  },
  {
   "cell_type": "code",
   "execution_count": 15,
   "metadata": {},
   "outputs": [],
   "source": [
    "firstCharge = Charges.createCharge(\n",
    "  \"13-12-2024\",\n",
    "  \"Pagamento De Fatura\",\n",
    "  -430.61,\n",
    "  \"BRL\",\n",
    "  santanderFree\n",
    ")"
   ]
  },
  {
   "cell_type": "code",
   "execution_count": 16,
   "metadata": {},
   "outputs": [
    {
     "name": "stdout",
     "output_type": "stream",
     "text": [
      "{'lastDigits': 9685, 'bank': 'Santander', 'limit': 1040.0, 'closingDay': 25, 'dueDay': 19}\n"
     ]
    }
   ],
   "source": [
    "print(santanderFree.toDict())"
   ]
  },
  {
   "cell_type": "code",
   "execution_count": 17,
   "metadata": {},
   "outputs": [
    {
     "name": "stdout",
     "output_type": "stream",
     "text": [
      "{\n",
      "  \"date\": \"13-12-24\",\n",
      "  \"description\": \"Pagamento De Fatura\",\n",
      "  \"value\": -430.61,\n",
      "  \"currency\": \"BRL\",\n",
      "  \"card\": {\n",
      "    \"lastDigits\": 9685,\n",
      "    \"bank\": \"Santander\",\n",
      "    \"limit\": 1040.0,\n",
      "    \"closingDay\": 25,\n",
      "    \"dueDay\": 19\n",
      "  }\n",
      "}\n"
     ]
    }
   ],
   "source": [
    "print(firstCharge.toJson())"
   ]
  }
 ],
 "metadata": {
  "kernelspec": {
   "display_name": "Python 3",
   "language": "python",
   "name": "python3"
  },
  "language_info": {
   "codemirror_mode": {
    "name": "ipython",
    "version": 3
   },
   "file_extension": ".py",
   "mimetype": "text/x-python",
   "name": "python",
   "nbconvert_exporter": "python",
   "pygments_lexer": "ipython3",
   "version": "3.12.4"
  }
 },
 "nbformat": 4,
 "nbformat_minor": 2
}
